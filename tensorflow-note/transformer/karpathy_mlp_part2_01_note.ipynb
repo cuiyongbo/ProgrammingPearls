{
 "cells": [
  {
   "cell_type": "code",
   "execution_count": 1,
   "metadata": {},
   "outputs": [],
   "source": [
    "# jupyter notebook server\n",
    "# http://dev-machinelearning:8888/?token=49f59c67c533c9bf3d23e6c0243fcb3dc79f6480ff106609\n",
    "\n",
    "import os\n",
    "import matplotlib.pyplot as plt\n",
    "%matplotlib inline\n",
    "\n",
    "import torch\n",
    "import torch.nn.functional as F"
   ]
  },
  {
   "cell_type": "code",
   "execution_count": 2,
   "metadata": {},
   "outputs": [
    {
     "name": "stdout",
     "output_type": "stream",
     "text": [
      "current working directory /model-store\n",
      "current working directory /model-store/makemore\n",
      "total 264K\n",
      "-rw-r--r-- 1 root root 1.1K Jun  6 12:52 LICENSE\n",
      "-rw-r--r-- 1 root root 3.0K Jun  6 12:52 README.md\n",
      "-rw-r--r-- 1 root root  29K Jun  6 12:52 makemore.py\n",
      "-rw-r--r-- 1 root root 223K Jun  6 12:52 names.txt\n"
     ]
    }
   ],
   "source": [
    "print(\"current working directory\", os.getcwd())\n",
    "os.chdir(\"makemore\")\n",
    "print(\"current working directory\", os.getcwd())\n",
    "!ls -lh"
   ]
  },
  {
   "cell_type": "code",
   "execution_count": 3,
   "metadata": {},
   "outputs": [
    {
     "data": {
      "text/plain": [
       "(32033, 2, 15)"
      ]
     },
     "execution_count": 3,
     "metadata": {},
     "output_type": "execute_result"
    }
   ],
   "source": [
    "words = open(\"names.txt\").read().splitlines()\n",
    "len(words), min(len(w) for w in words), max(len(w) for w in words)"
   ]
  },
  {
   "cell_type": "code",
   "execution_count": 4,
   "metadata": {},
   "outputs": [
    {
     "name": "stdout",
     "output_type": "stream",
     "text": [
      "{1: 'a', 2: 'b', 3: 'c', 4: 'd', 5: 'e', 6: 'f', 7: 'g', 8: 'h', 9: 'i', 10: 'j', 11: 'k', 12: 'l', 13: 'm', 14: 'n', 15: 'o', 16: 'p', 17: 'q', 18: 'r', 19: 's', 20: 't', 21: 'u', 22: 'v', 23: 'w', 24: 'x', 25: 'y', 26: 'z', 0: '.'}\n",
      "vocab_size=27\n",
      "block_size=3\n"
     ]
    }
   ],
   "source": [
    "chars = sorted(list(set(\"\".join(words))))\n",
    "stoi = {c: i+1 for i, c in enumerate(chars)}\n",
    "stoi[\".\"] = 0\n",
    "itos = {i:c for c, i in stoi.items()}\n",
    "vocab_size = len(itos)\n",
    "print(itos)\n",
    "print(f\"{vocab_size=}\")\n",
    "block_size = 3 # context length: how many characters do we take to predict the next one?\n",
    "print(f\"{block_size=}\")"
   ]
  },
  {
   "cell_type": "code",
   "execution_count": 5,
   "metadata": {},
   "outputs": [
    {
     "name": "stdout",
     "output_type": "stream",
     "text": [
      "32033 25626 28829\n",
      "X.shape=torch.Size([182625, 3]) Y.shape=torch.Size([182625])\n",
      "X.shape=torch.Size([22655, 3]) Y.shape=torch.Size([22655])\n",
      "X.shape=torch.Size([22866, 3]) Y.shape=torch.Size([22866])\n"
     ]
    }
   ],
   "source": [
    "# traning split, dev/validation split, test split\n",
    "# 80%, 10%, 10%\n",
    "\n",
    "def build_dataset(words):\n",
    "  X, Y = [], []\n",
    "  for w in words:\n",
    "    context = [0] * block_size\n",
    "    for c in w+\".\":\n",
    "      ix = stoi[c]\n",
    "      X.append(context)\n",
    "      Y.append(ix)\n",
    "      context = context[1:] + [ix] # crop and append\n",
    "  X = torch.tensor(X)\n",
    "  Y = torch.tensor(Y)\n",
    "  print(f\"{X.shape=}\", f\"{Y.shape=}\")\n",
    "  return X, Y\n",
    "\n",
    "n1 = int(0.8 * len(words))\n",
    "n2 = int(0.9 * len(words))\n",
    "print(len(words), n1, n2)\n",
    "\n",
    "import random\n",
    "random.seed(42)\n",
    "random.shuffle(words)\n",
    "Xtr, Ytr = build_dataset(words[:n1])\n",
    "Xdev, Ydev = build_dataset(words[n1:n2])\n",
    "Xte, Yte =build_dataset(words[n2:])"
   ]
  },
  {
   "cell_type": "code",
   "execution_count": 40,
   "metadata": {},
   "outputs": [
    {
     "name": "stdout",
     "output_type": "stream",
     "text": [
      "number of paramenters 12297\n"
     ]
    }
   ],
   "source": [
    "n_emb = 10\n",
    "n_hidden = 200\n",
    "\n",
    "g = torch.Generator().manual_seed(2147483647) # for reproducibility\n",
    "C = torch.rand((vocab_size, n_emb), generator=g)\n",
    "W1 = torch.rand((block_size * n_emb, n_hidden), generator=g) * ((5/3) / (block_size * n_emb)**0.5) #* 0.2\n",
    "b1 = torch.rand(n_hidden, generator=g) * 0.01\n",
    "W2 = torch.rand((n_hidden, vocab_size), generator=g) * 0.01\n",
    "b2 = torch.rand(vocab_size, generator=g) * 0\n",
    "\n",
    "bngain = torch.ones((1, n_hidden))\n",
    "bnbias = torch.zeros((1, n_hidden))\n",
    "\n",
    "# unit Gaussian distribution\n",
    "bnmean_running = torch.zeros((1, n_hidden))\n",
    "bnstd_running = torch.ones((1, n_hidden))\n",
    "\n",
    "parameters = [C, W1, b1, W2, b2, bngain, bnbias]\n",
    "print(\"number of paramenters\", sum([p.nelement() for p in parameters]))\n",
    "\n",
    "for p in parameters:\n",
    "  p.requires_grad = True"
   ]
  },
  {
   "cell_type": "code",
   "execution_count": 41,
   "metadata": {},
   "outputs": [
    {
     "name": "stdout",
     "output_type": "stream",
     "text": [
      "      0/ 200000: 3.2856\n",
      "  10000/ 200000: 2.1910\n",
      "  20000/ 200000: 2.1619\n",
      "  30000/ 200000: 2.4301\n",
      "  40000/ 200000: 2.0716\n",
      "  50000/ 200000: 2.0125\n",
      "  60000/ 200000: 2.4279\n",
      "  70000/ 200000: 2.1984\n",
      "  80000/ 200000: 2.3772\n",
      "  90000/ 200000: 2.1483\n",
      " 100000/ 200000: 2.2567\n",
      " 110000/ 200000: 2.1611\n",
      " 120000/ 200000: 1.7684\n",
      " 130000/ 200000: 2.3275\n",
      " 140000/ 200000: 2.2118\n",
      " 150000/ 200000: 2.0102\n",
      " 160000/ 200000: 2.2136\n",
      " 170000/ 200000: 2.1935\n",
      " 180000/ 200000: 1.8776\n",
      " 190000/ 200000: 2.0842\n",
      "0.3272089660167694\n"
     ]
    }
   ],
   "source": [
    "max_steps = 200000\n",
    "batch_size = 32\n",
    "lossi = []\n",
    "\n",
    "for i in range(max_steps):\n",
    "  # construct minibatch\n",
    "  ix = torch.randint(0, Xtr.shape[0], (batch_size,), generator=g)\n",
    "  Xb, Yb = Xtr[ix], Ytr[ix]\n",
    "  # forward pass\n",
    "  emb = C[Xb] # embed the characters into vectors\n",
    "  embcat = emb.view(emb.shape[0], -1) # concatenate the vector\n",
    "  # Linear Layer\n",
    "  # b1 is useless here since b1.grad is 0 or very close to 0\n",
    "  hpreact = embcat @ W1 + b1\n",
    "  bnmeani = hpreact.mean(dim=0, keepdim=True)\n",
    "  bnstdi = hpreact.std(dim=0, keepdim=True)\n",
    "  hpreact = bngain * (hpreact - bnmeani) / bnstdi + bnbias\n",
    "\n",
    "  # BatchNorm Layer\n",
    "  with torch.no_grad():\n",
    "    bnmean_running = 0.999 * bnmean_running + 0.001 * bnmeani\n",
    "    bnstd_running = 0.999 * bnstdi + 0.001 * bnstdi\n",
    "  \n",
    "  # Non-linearity Layer\n",
    "  h = torch.tanh(hpreact) # hidden layer\n",
    "  logits = h @ W2 + b2 # output layer\n",
    "  loss = F.cross_entropy(logits, Yb) # loss function\n",
    "  #print(loss.item())\n",
    "  # backward pass\n",
    "  for p in parameters:\n",
    "    p.grad = None\n",
    "  loss.backward()\n",
    "  # update\n",
    "  lr = 0.1 if i<100000 else 0.001 # step learning rate decay\n",
    "  for p in parameters:\n",
    "    p.data += -lr * p.grad\n",
    "  # trace loss\n",
    "  if i%10000 == 0:\n",
    "    print(f\"{i:7d}/{max_steps:7d}: {loss.item():.4f}\")\n",
    "  lossi.append(loss.log10().item())\n",
    "  #break\n",
    "\n",
    "print(loss.log10().item())"
   ]
  },
  {
   "cell_type": "code",
   "execution_count": null,
   "metadata": {},
   "outputs": [],
   "source": [
    "plt.hist(h.view(-1).tolist(), 50);"
   ]
  },
  {
   "cell_type": "code",
   "execution_count": null,
   "metadata": {},
   "outputs": [],
   "source": [
    "plt.hist(hpreact.view(-1).tolist(), 50);"
   ]
  },
  {
   "cell_type": "code",
   "execution_count": null,
   "metadata": {},
   "outputs": [],
   "source": [
    "plt.clf()\n",
    "plt.figure(figsize=(20,10))\n",
    "plt.imshow(h.abs()>0.99, cmap=\"gray\", interpolation=\"nearest\")"
   ]
  },
  {
   "cell_type": "code",
   "execution_count": null,
   "metadata": {},
   "outputs": [],
   "source": [
    "plt.plot(lossi)"
   ]
  },
  {
   "cell_type": "code",
   "execution_count": 43,
   "metadata": {},
   "outputs": [
    {
     "name": "stdout",
     "output_type": "stream",
     "text": [
      "val 2.1109306812286377\n",
      "test 2.107935667037964\n"
     ]
    }
   ],
   "source": [
    "@torch.no_grad() # disable gradient tracking\n",
    "def split_loss(split):\n",
    "  x, y = {\n",
    "    \"train\": (Xtr, Ytr),\n",
    "    \"val\": (Xdev, Ydev),\n",
    "    \"test\": (Xte, Yte),\n",
    "  }[split]\n",
    "  emb = C[x] # (N, block_size, n_emb)\n",
    "  embcat = emb.view(emb.shape[0], -1) # (N, block_size*n_emb)\n",
    "  hpreact = embcat @ W1 + b1\n",
    "  #hpreact = bngain * (hpreact - hpreact.mean(dim=0, keepdim=True)) / hpreact.std(dim=0, keepdim=True) + bnbias\n",
    "  # perform batch normalization, refer to *Batch Normalization: Accelerating Deep Network Training by Reducing Internal Covariate Shift*\n",
    "  hpreact = bngain * (hpreact - bnmean_running) / bnstd_running + bnbias\n",
    "  h = torch.tanh(hpreact) # (N, n_hidden)\n",
    "  logits = h @ W2 + b2  # (N, vocab_size)\n",
    "  loss = F.cross_entropy(logits, y)\n",
    "  print(split, loss.item())\n",
    "\n",
    "split_loss(\"val\")\n",
    "split_loss(\"test\")"
   ]
  },
  {
   "cell_type": "code",
   "execution_count": 39,
   "metadata": {},
   "outputs": [
    {
     "name": "stdout",
     "output_type": "stream",
     "text": [
      "gydandinseys.\n",
      "hmb.\n",
      "yndyny.\n",
      "ruunaspe.\n",
      "nal.\n",
      "ymyytim.\n",
      "navysevynlyv.\n",
      "llri.\n",
      "lbytusil.\n",
      "rrian.\n",
      "llyynn.\n",
      "vdhny.\n",
      "ldohn.\n",
      "lalr.\n",
      "hnsahnnndynm.\n",
      "ruddy.\n",
      "hndohrorycwrlv.\n",
      "hdok.\n",
      "hmdhcys.\n",
      "ssoin.\n"
     ]
    }
   ],
   "source": [
    "# sample from the model\n",
    "g = torch.Generator().manual_seed(2147483674 * 10)\n",
    "for _ in range(20):\n",
    "  out = []\n",
    "  context = [0] * block_size # initialize context with ...\n",
    "  while True:\n",
    "    emb = C[torch.tensor([context])] # (1, block_size, d)\n",
    "    h = torch.tanh(emb.view(1, -1) @ W1 + b1)\n",
    "    logits = h @ W2 + b2\n",
    "    probs = F.softmax(logits, dim=1)\n",
    "    ix = torch.multinomial(probs, num_samples=1, generator=g).item()\n",
    "    context = context[1:] + [ix]\n",
    "    out.append(ix)\n",
    "    if ix == 0:\n",
    "      break\n",
    "  print(\"\".join([itos[o] for o in out]))"
   ]
  }
 ],
 "metadata": {
  "kernelspec": {
   "display_name": "Python 3 (ipykernel)",
   "language": "python",
   "name": "python3"
  },
  "language_info": {
   "codemirror_mode": {
    "name": "ipython",
    "version": 3
   },
   "file_extension": ".py",
   "mimetype": "text/x-python",
   "name": "python",
   "nbconvert_exporter": "python",
   "pygments_lexer": "ipython3",
   "version": "3.10.12"
  }
 },
 "nbformat": 4,
 "nbformat_minor": 2
}
