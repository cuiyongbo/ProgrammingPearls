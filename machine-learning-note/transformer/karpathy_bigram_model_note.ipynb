{
 "cells": [
  {
   "cell_type": "markdown",
   "metadata": {},
   "source": [
    "For how to setup the environment, refer to [setup nanoGPT env](./setup_nanoGPT_env.md)"
   ]
  },
  {
   "cell_type": "code",
   "execution_count": null,
   "metadata": {},
   "outputs": [],
   "source": [
    "import os\n",
    "import math\n",
    "\n",
    "import numpy as np\n",
    "import matplotlib.pyplot as plt\n",
    "%matplotlib inline\n",
    "\n",
    "import torch\n",
    "import torch.nn.functional as F"
   ]
  },
  {
   "cell_type": "code",
   "execution_count": null,
   "metadata": {},
   "outputs": [],
   "source": [
    "print(\"current working directory\", os.getcwd())\n",
    "os.chdir(\"../makemore\")\n",
    "print(\"current working directory\", os.getcwd())\n",
    "!ls -lh"
   ]
  },
  {
   "cell_type": "code",
   "execution_count": null,
   "metadata": {},
   "outputs": [],
   "source": [
    "words = open(\"names.txt\").read().splitlines()"
   ]
  },
  {
   "cell_type": "code",
   "execution_count": null,
   "metadata": {},
   "outputs": [],
   "source": [
    "len(words), min(len(w) for w in words), max(len(w) for w in words)"
   ]
  },
  {
   "cell_type": "code",
   "execution_count": null,
   "metadata": {},
   "outputs": [],
   "source": [
    "b = {}\n",
    "for w in words:\n",
    "  chs = [\"<S>\"] + list(w) + [\"<E>\"]\n",
    "  for c1, c2 in zip(chs, chs[1:]):\n",
    "    bigram = (c1, c2)\n",
    "    b[bigram] = b.get(bigram, 0) + 1"
   ]
  },
  {
   "cell_type": "code",
   "execution_count": null,
   "metadata": {},
   "outputs": [],
   "source": [
    "sorted(b.items(), key= lambda k: -k[-1]) "
   ]
  },
  {
   "cell_type": "code",
   "execution_count": null,
   "metadata": {},
   "outputs": [],
   "source": [
    "chars = sorted(list(set(\"\".join(words))))\n",
    "stoi = {c: i+1 for i, c in enumerate(chars)}\n",
    "stoi[\".\"] = 0\n",
    "itos = {i:c for c, i in stoi.items()}"
   ]
  },
  {
   "cell_type": "code",
   "execution_count": null,
   "metadata": {},
   "outputs": [],
   "source": [
    "N = torch.zeros((27, 27), dtype=torch.int32)\n",
    "for w in words:\n",
    "  chs = [\".\"] + list(w) + [\".\"]\n",
    "  for c1, c2 in zip(chs, chs[1:]):\n",
    "    ix1, ix2 = stoi[c1], stoi[c2]\n",
    "    N[ix1, ix2] += 1"
   ]
  },
  {
   "cell_type": "code",
   "execution_count": null,
   "metadata": {},
   "outputs": [],
   "source": [
    "plt.clf()\n",
    "plt.figure(figsize=(16,16))\n",
    "plt.imshow(N, cmap=\"Blues\")\n",
    "for i in range(27):\n",
    "  for j in range(27):\n",
    "    chstr = itos[i] + itos[j]\n",
    "    plt.text(j, i, chstr, ha=\"center\", va=\"bottom\", color=\"gray\")\n",
    "    plt.text(j, i, N[j, i].item(), ha=\"center\", va=\"top\", color=\"gray\")\n",
    "plt.axis(\"off\")"
   ]
  },
  {
   "cell_type": "code",
   "execution_count": null,
   "metadata": {},
   "outputs": [],
   "source": [
    "g = torch.Generator().manual_seed(23254312)\n",
    "p = torch.rand(3, generator=g)\n",
    "p = p/p.sum()\n",
    "p"
   ]
  },
  {
   "cell_type": "code",
   "execution_count": null,
   "metadata": {},
   "outputs": [],
   "source": [
    "torch.multinomial(p, num_samples=100, replacement=True, generator=g)"
   ]
  },
  {
   "cell_type": "code",
   "execution_count": null,
   "metadata": {},
   "outputs": [],
   "source": [
    "P = (N+1).float()\n",
    "# make sure we know what broadcast do, and how to do it: https://pytorch.org/docs/stable/notes/broadcasting.html\n",
    "#P = P / P.sum(dim=1, keepdim=True)\n",
    "P /= P.sum(dim=1, keepdim=True)\n",
    "# verify each row is normalized\n",
    "P.sum(dim=1, keepdim=True)"
   ]
  },
  {
   "cell_type": "code",
   "execution_count": null,
   "metadata": {},
   "outputs": [],
   "source": [
    "g = torch.Generator().manual_seed(2147483647)\n",
    "for i in range(50):\n",
    "  ix = 0\n",
    "  outs = []\n",
    "  while True:\n",
    "    #p = N[ix].float()\n",
    "    #p = p/p.sum()\n",
    "    p = P[ix]\n",
    "    ix = torch.multinomial(p, num_samples=1, replacement=True, generator=g).item()\n",
    "    outs.append(itos[ix])\n",
    "    if ix == 0:\n",
    "      break\n",
    "  print(\"\".join(outs))"
   ]
  },
  {
   "cell_type": "code",
   "execution_count": null,
   "metadata": {},
   "outputs": [],
   "source": [
    "n = 0\n",
    "log_likelihood = 0.0\n",
    "#for w in words:\n",
    "for w in [\"yongbopx\"]:\n",
    "  chs = [\".\"] + list(w) + [\".\"]\n",
    "  for c1, c2 in zip(chs, chs[1:]):\n",
    "    ix1, ix2 = stoi[c1], stoi[c2]\n",
    "    prob = P[ix1, ix2]\n",
    "    logprob = torch.log(prob)\n",
    "    log_likelihood += logprob\n",
    "    n += 1\n",
    "    print(f\"{c1}{c2}: {prob:.4f} {logprob:.4f}\")\n",
    "\n",
    "print(f\"{log_likelihood=}\")\n",
    "nll = -log_likelihood/n\n",
    "print(f\"{nll=}\")"
   ]
  },
  {
   "cell_type": "code",
   "execution_count": null,
   "metadata": {},
   "outputs": [],
   "source": [
    "# create the training set of bigrams: (x, y)\n",
    "xs, ys = [], []\n",
    "for w in words[:1]:\n",
    "  chs = [\".\"] + list(w) + [\".\"]\n",
    "  for c1, c2 in zip(chs, chs[1:]):\n",
    "    ix1, ix2 = stoi[c1], stoi[c2]\n",
    "    xs.append(ix1)\n",
    "    ys.append(ix2)\n",
    "\n",
    "# https://discuss.pytorch.org/t/difference-between-torch-tensor-and-torch-tensor/30786\n",
    "#xs = torch.Tensor(xs)\n",
    "xs = torch.tensor(xs)\n",
    "ys = torch.tensor(ys)"
   ]
  },
  {
   "cell_type": "code",
   "execution_count": null,
   "metadata": {},
   "outputs": [],
   "source": [
    "# log(a*b*c) = log(a) + log(b) + log(c)\n",
    "\n",
    "# GOAL: maximize the likelihood of training data w.r.t model parameters (statistical modeling)\n",
    "# equivalent to maximizing the log likelihood (because log is monotonic)\n",
    "# equivalent to minimizing the negative log likelihood\n",
    "# equivalent to minimizing the average negative log likelihood"
   ]
  },
  {
   "cell_type": "code",
   "execution_count": null,
   "metadata": {},
   "outputs": [],
   "source": [
    "g = torch.Generator().manual_seed(2147483647)\n",
    "W = torch.randn((27, 27), generator=g)\n",
    "\n",
    "# https://pytorch.org/docs/stable/generated/torch.nn.functional.one_hot.html#torch.nn.functional.one_hot\n",
    "xenc = F.one_hot(xs, num_classes=27).float() # input to the network: one-hot encoding\n",
    "logits = xenc @ W # predict log-counts\n",
    "counts = logits.exp()\n",
    "P = counts / counts.sum(dim=1, keepdims=True) # probabilities for next character\n",
    "# btw: the last 2 lines here are called a \"softmax\""
   ]
  },
  {
   "cell_type": "code",
   "execution_count": null,
   "metadata": {},
   "outputs": [],
   "source": [
    "# create the training set of bigrams: (x, y)\n",
    "xs, ys = [], []\n",
    "#for w in words[:1]:\n",
    "for w in words:\n",
    "  chs = [\".\"] + list(w) + [\".\"]\n",
    "  for c1, c2 in zip(chs, chs[1:]):\n",
    "    ix1, ix2 = stoi[c1], stoi[c2]\n",
    "    xs.append(ix1)\n",
    "    ys.append(ix2)\n",
    "\n",
    "# https://discuss.pytorch.org/t/difference-between-torch-tensor-and-torch-tensor/30786\n",
    "#xs = torch.Tensor(xs)\n",
    "xs = torch.tensor(xs)\n",
    "ys = torch.tensor(ys)\n",
    "\n",
    "data_num = xs.nelement()\n",
    "print(f\"{data_num=}\")\n",
    "\n",
    "xenc = F.one_hot(xs, num_classes=27).float() # input to the network: one-hot encoding\n"
   ]
  },
  {
   "cell_type": "code",
   "execution_count": null,
   "metadata": {},
   "outputs": [],
   "source": [
    "# initialize the network\n",
    "g = torch.Generator().manual_seed(2147483647)\n",
    "W = torch.randn((27, 27), generator=g, requires_grad=True)"
   ]
  },
  {
   "cell_type": "code",
   "execution_count": null,
   "metadata": {},
   "outputs": [],
   "source": [
    "# gradient descent\n",
    "for k in range(100):\n",
    "  # forward pass\n",
    "  logits = xenc @ W # predict log-counts\n",
    "  counts = logits.exp()\n",
    "  probs = counts / counts.sum(dim=1, keepdim=True) # probabilities for next character\n",
    "  loss = -probs[torch.arange(data_num), ys].log().mean() + 0.1 * (W**2).mean() # loss + l2 regulation\n",
    "  print(f\"{loss.item()}\")\n",
    "\n",
    "  # backward pass\n",
    "  W.grad = None # set gradient to zero\n",
    "  loss.backward()\n",
    "\n",
    "  # update pass\n",
    "  W.data += -50 * W.grad\n"
   ]
  },
  {
   "cell_type": "code",
   "execution_count": null,
   "metadata": {},
   "outputs": [],
   "source": [
    "# finally, sample from the \"neural network\"\n",
    "g = torch.Generator().manual_seed(2147483647)\n",
    "for i in range(10):\n",
    "  ix = 0\n",
    "  outs = []\n",
    "  while True:\n",
    "    # --------\n",
    "    # BEFORE:\n",
    "    #p = P[ix]\n",
    "    # --------\n",
    "    # NOW:\n",
    "    xenc = F.one_hot(torch.tensor([ix]), num_classes=27).float()\n",
    "    logits = xenc @ W\n",
    "    counts = logits.exp()\n",
    "    p = counts / counts.sum(dim=1, keepdims=True) # probabilities for next character\n",
    "    # --------\n",
    "    ix = torch.multinomial(p, num_samples=1, replacement=True, generator=g).item()\n",
    "    outs.append(itos[ix])\n",
    "    if ix == 0:\n",
    "      break\n",
    "  print(\"\".join(outs))"
   ]
  }
 ],
 "metadata": {
  "kernelspec": {
   "display_name": "Python 3 (ipykernel)",
   "language": "python",
   "name": "python3"
  },
  "language_info": {
   "codemirror_mode": {
    "name": "ipython",
    "version": 3
   },
   "file_extension": ".py",
   "mimetype": "text/x-python",
   "name": "python",
   "nbconvert_exporter": "python",
   "pygments_lexer": "ipython3",
   "version": "3.10.12"
  }
 },
 "nbformat": 4,
 "nbformat_minor": 2
}
