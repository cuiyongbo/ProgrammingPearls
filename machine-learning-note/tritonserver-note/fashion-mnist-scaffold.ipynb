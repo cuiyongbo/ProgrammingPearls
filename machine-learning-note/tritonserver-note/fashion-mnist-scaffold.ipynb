{
 "cells": [
  {
   "cell_type": "code",
   "execution_count": 1,
   "metadata": {},
   "outputs": [],
   "source": [
    "import os\n",
    "import torch\n",
    "from torchvision import datasets, transforms\n",
    "from PIL import Image, ImageOps"
   ]
  },
  {
   "cell_type": "code",
   "execution_count": null,
   "metadata": {},
   "outputs": [],
   "source": [
    "# train the model with `https://github.com/kefth/fashion-mnist`"
   ]
  },
  {
   "cell_type": "code",
   "execution_count": 2,
   "metadata": {},
   "outputs": [],
   "source": [
    "train_transforms = transforms.Compose([\n",
    "  transforms.ToTensor(),\n",
    "  transforms.Normalize((0.1307,), (0.3081,))\n",
    "])\n",
    "val_transforms = transforms.Compose([\n",
    "  transforms.ToTensor(),\n",
    "  transforms.Normalize((0.1307,), (0.3081,))\n",
    "])\n",
    "\n",
    "fashion_mnist_data_path = \"/root/code/fashion-mnist/data\"\n",
    "trainset = datasets.FashionMNIST(fashion_mnist_data_path, train=True, download=True, transform=train_transforms)\n",
    "train_loader = torch.utils.data.DataLoader(trainset, shuffle=True)\n",
    "valset = datasets.FashionMNIST(fashion_mnist_data_path, train=False, transform=val_transforms)\n",
    "val_loader = torch.utils.data.DataLoader(valset, shuffle=True)"
   ]
  },
  {
   "cell_type": "code",
   "execution_count": 3,
   "metadata": {},
   "outputs": [
    {
     "data": {
      "text/plain": [
       "(torch.Size([60000, 28, 28]), torch.uint8)"
      ]
     },
     "execution_count": 3,
     "metadata": {},
     "output_type": "execute_result"
    }
   ],
   "source": [
    "trainset.data.shape, trainset.data.dtype"
   ]
  },
  {
   "cell_type": "code",
   "execution_count": 14,
   "metadata": {},
   "outputs": [
    {
     "name": "stdout",
     "output_type": "stream",
     "text": [
      "torch.Size([1, 1, 28, 28]) torch.float32\n",
      "torch.Size([1]) torch.int64\n"
     ]
    }
   ],
   "source": [
    "for X, y in train_loader:\n",
    "  print(X.shape, X.dtype)\n",
    "  print(y.shape, y.dtype)\n",
    "  break"
   ]
  },
  {
   "cell_type": "code",
   "execution_count": 5,
   "metadata": {},
   "outputs": [],
   "source": [
    "classes = trainset.classes\n",
    "class_to_idx = trainset.class_to_idx\n",
    "idx_to_class = {v: k for k, v in trainset.class_to_idx.items()}"
   ]
  },
  {
   "cell_type": "code",
   "execution_count": 6,
   "metadata": {},
   "outputs": [],
   "source": [
    "# taken from `https://github.com/kefth/fashion-mnist`\n",
    "import torch.nn as nn\n",
    "\n",
    "class FashionSimpleNet(nn.Module):\n",
    "\n",
    "    \"\"\" Simple network\"\"\"\n",
    "\n",
    "    def __init__(self):\n",
    "        super().__init__()\n",
    "        self.features = nn.Sequential(\n",
    "            nn.Conv2d(1,32, kernel_size=3, padding=1), # 28\n",
    "            nn.ReLU(inplace=True),\n",
    "            nn.MaxPool2d(kernel_size=2, stride=2), # 14\n",
    "            nn.Conv2d(32, 64, kernel_size=3, padding=1),\n",
    "            nn.ReLU(inplace=True),\n",
    "            nn.MaxPool2d(kernel_size=2, stride=2) # 7\n",
    "        )\n",
    "        self.classifier = nn.Sequential(\n",
    "            nn.Dropout(),\n",
    "            nn.Linear(64 * 7 * 7, 128),\n",
    "            nn.ReLU(inplace=True),\n",
    "            nn.Linear(128, 10)\n",
    "        )\n",
    "\n",
    "    def forward(self, x):\n",
    "        x = self.features(x)\n",
    "        x = x.view(x.size(0), 64 * 7 * 7)\n",
    "        x = self.classifier(x)\n",
    "        return x"
   ]
  },
  {
   "cell_type": "code",
   "execution_count": 7,
   "metadata": {},
   "outputs": [
    {
     "data": {
      "text/plain": [
       "FashionSimpleNet(\n",
       "  (features): Sequential(\n",
       "    (0): Conv2d(1, 32, kernel_size=(3, 3), stride=(1, 1), padding=(1, 1))\n",
       "    (1): ReLU(inplace=True)\n",
       "    (2): MaxPool2d(kernel_size=2, stride=2, padding=0, dilation=1, ceil_mode=False)\n",
       "    (3): Conv2d(32, 64, kernel_size=(3, 3), stride=(1, 1), padding=(1, 1))\n",
       "    (4): ReLU(inplace=True)\n",
       "    (5): MaxPool2d(kernel_size=2, stride=2, padding=0, dilation=1, ceil_mode=False)\n",
       "  )\n",
       "  (classifier): Sequential(\n",
       "    (0): Dropout(p=0.5, inplace=False)\n",
       "    (1): Linear(in_features=3136, out_features=128, bias=True)\n",
       "    (2): ReLU(inplace=True)\n",
       "    (3): Linear(in_features=128, out_features=10, bias=True)\n",
       "  )\n",
       ")"
      ]
     },
     "execution_count": 7,
     "metadata": {},
     "output_type": "execute_result"
    }
   ],
   "source": [
    "moodel_path = \"/root/code/ml-scaffold/kefth/saved-models/FashionSimpleNet-run-1.pth.tar\"\n",
    "\n",
    "net = FashionSimpleNet()\n",
    "_ = net.load_state_dict(torch.load(moodel_path, weights_only=True)[\"state_dict\"])\n",
    "net.eval()  # Set the model to evaluation mode"
   ]
  },
  {
   "cell_type": "code",
   "execution_count": 8,
   "metadata": {},
   "outputs": [],
   "source": [
    "def predict_img(net, img_path):\n",
    "  print(\"img path:\", img_path)\n",
    "  test_img = Image.open(img_path)\n",
    "  test_img = test_img.convert(\"L\")\n",
    "  #test_img.show()\n",
    "  #test_img.mode, test_img.size, test_img.format\n",
    "  fit_img = ImageOps.fit(test_img, (28, 28))\n",
    "  fit_img.show()\n",
    "  img_tensor = train_transforms(fit_img)\n",
    "  output = net(img_tensor.unsqueeze(0))\n",
    "  #print(\"Output:\", output)\n",
    "  predicted_label = output.softmax(1).argmax(1).item()\n",
    "  print(\"Predicted label:\", predicted_label, \"Predicted class:\", idx_to_class[predicted_label])"
   ]
  },
  {
   "cell_type": "code",
   "execution_count": 9,
   "metadata": {},
   "outputs": [
    {
     "name": "stdout",
     "output_type": "stream",
     "text": [
      "img path: /root/code/fashion-mnist/test-imgs/sneakers.jpeg\n"
     ]
    },
    {
     "data": {
      "image/jpeg": "[encoded data removed]",
      "image/png": "[encoded data removed]",
      "text/plain": [
       "<PIL.Image.Image image mode=L size=28x28>"
      ]
     },
     "metadata": {},
     "output_type": "display_data"
    },
    {
     "name": "stdout",
     "output_type": "stream",
     "text": [
      "Predicted label: 8 Predicted class: Bag\n",
      "img path: /root/code/fashion-mnist/test-imgs/trouser.jpeg\n"
     ]
    },
    {
     "data": {
      "image/jpeg": "[encoded data removed]",
      "image/png": "[encoded data removed]",
      "text/plain": [
       "<PIL.Image.Image image mode=L size=28x28>"
      ]
     },
     "metadata": {},
     "output_type": "display_data"
    },
    {
     "name": "stdout",
     "output_type": "stream",
     "text": [
      "Predicted label: 8 Predicted class: Bag\n",
      "img path: /root/code/fashion-mnist/test-imgs/sandal.jpeg\n"
     ]
    },
    {
     "data": {
      "image/jpeg": "[encoded data removed]",
      "image/png": "[encoded data removed]",
      "text/plain": [
       "<PIL.Image.Image image mode=L size=28x28>"
      ]
     },
     "metadata": {},
     "output_type": "display_data"
    },
    {
     "name": "stdout",
     "output_type": "stream",
     "text": [
      "Predicted label: 8 Predicted class: Bag\n",
      "img path: /root/code/fashion-mnist/test-imgs/t-shirt.jpeg\n"
     ]
    },
    {
     "data": {
      "image/jpeg": "[encoded data removed]",
      "image/png": "[encoded data removed]",
      "text/plain": [
       "<PIL.Image.Image image mode=L size=28x28>"
      ]
     },
     "metadata": {},
     "output_type": "display_data"
    },
    {
     "name": "stdout",
     "output_type": "stream",
     "text": [
      "Predicted label: 8 Predicted class: Bag\n"
     ]
    }
   ],
   "source": [
    "test_img_path = \"/root/code/fashion-mnist/test-imgs\"\n",
    "for image in os.listdir(test_img_path):\n",
    "    img_path = os.path.join(test_img_path, image)\n",
    "    predict_img(net, img_path)"
   ]
  },
  {
   "cell_type": "code",
   "execution_count": 10,
   "metadata": {},
   "outputs": [
    {
     "name": "stdout",
     "output_type": "stream",
     "text": [
      "test on training dataset\n"
     ]
    },
    {
     "name": "stdout",
     "output_type": "stream",
     "text": [
      "total_count: 60000, err_count: 1569, accuracy: 97.39%\n"
     ]
    }
   ],
   "source": [
    "to_pil = transforms.ToPILImage()\n",
    "\n",
    "print(\"test on training dataset\")\n",
    "\n",
    "total_count = 0\n",
    "err_count = 0\n",
    "for i, (X, y) in enumerate(train_loader):\n",
    "  total_count += 1\n",
    "  output = net(X)\n",
    "  y_hat = output.softmax(1).argmax(1).item()\n",
    "  y = y.item()\n",
    "  if y_hat != y:\n",
    "    #print(\"predict: {}, actual: {}\".format(idx_to_class[y_hat], idx_to_class[y]))\n",
    "    #to_pil(X.squeeze()).show()\n",
    "    err_count += 1\n",
    "\n",
    "print(\"total_count: {}, err_count: {}, accuracy: {:.2f}%\".format(total_count, err_count, (total_count-err_count)*100/total_count))"
   ]
  },
  {
   "cell_type": "code",
   "execution_count": 11,
   "metadata": {},
   "outputs": [
    {
     "name": "stdout",
     "output_type": "stream",
     "text": [
      "test on validation dataset\n",
      "total_count: 10000, err_count: 689, accuracy: 93.11%\n"
     ]
    }
   ],
   "source": [
    "print(\"test on validation dataset\")\n",
    "\n",
    "total_count = 0\n",
    "err_count = 0\n",
    "for i, (X, y) in enumerate(val_loader):\n",
    "  total_count += 1\n",
    "  output = net(X)\n",
    "  y_hat = output.softmax(1).argmax(1).item()\n",
    "  y = y.item()\n",
    "  if y_hat != y:\n",
    "    #print(\"predict: {}, actual: {}\".format(idx_to_class[y_hat], idx_to_class[y]))\n",
    "    #to_pil(X.squeeze()).show()\n",
    "    err_count += 1\n",
    "\n",
    "print(\"total_count: {}, err_count: {}, accuracy: {:.2f}%\".format(total_count, err_count, (total_count-err_count)*100/total_count))"
   ]
  },
  {
   "cell_type": "code",
   "execution_count": 12,
   "metadata": {},
   "outputs": [],
   "source": [
    "onnx_model_path = \"/root/code/ml-scaffold/kefth/saved-models/model.onnx\"\n",
    "torch.onnx.export(\n",
    "    net,                      # Model to be exported\n",
    "    X,                        # Dummy input tensor\n",
    "    onnx_model_path,             # Output file path\n",
    "    export_params=True,         # Store the trained parameter weights inside the model file\n",
    "    #opset_version=11,           # ONNX version to export the model to\n",
    "    do_constant_folding=True,   # Whether to execute constant folding for optimization\n",
    "    input_names=['input'],      # Input tensor names\n",
    "    output_names=['output'],    # Output tensor names\n",
    "    dynamic_axes={'input': {0: 'batch_size'}, 'output': {0: 'batch_size'}}  # Dynamic axes\n",
    ")\n"
   ]
  },
  {
   "cell_type": "code",
   "execution_count": 13,
   "metadata": {},
   "outputs": [
    {
     "name": "stdout",
     "output_type": "stream",
     "text": [
      "The model has been successfully converted to ONNX format.\n"
     ]
    }
   ],
   "source": [
    "import onnx\n",
    "\n",
    "# Load the ONNX model\n",
    "onnx_model = onnx.load(onnx_model_path)\n",
    "# Check that the model is well-formed\n",
    "onnx.checker.check_model(onnx_model)\n",
    "print(\"The model has been successfully converted to ONNX format.\")"
   ]
  },
  {
   "cell_type": "code",
   "execution_count": null,
   "metadata": {},
   "outputs": [],
   "source": [
    "# setup model repository for serving\n",
    "\n",
    "'''\n",
    "# tree                   \n",
    ".\n",
    "`-- kefth-fashion-mnist\n",
    "    `-- 1\n",
    "        |-- config.pbtxt\n",
    "        |-- model.onnx\n",
    "        `-- model.py\n",
    "'''"
   ]
  },
  {
   "cell_type": "code",
   "execution_count": 26,
   "metadata": {},
   "outputs": [],
   "source": [
    "import numpy as np\n",
    "import tritonclient.grpc as grpcclient\n",
    "from tritonclient.utils import np_to_triton_dtype, triton_to_np_dtype\n",
    "from tritonclient.utils import InferenceServerException\n",
    "\n",
    "server_addr = \"localhost:8001\"\n",
    "triton_client = grpcclient.InferenceServerClient(server_addr)\n",
    "\n",
    "in0 = X.numpy()\n",
    "input_tensors = [\n",
    "    grpcclient.InferInput(\"input\", in0.shape, np_to_triton_dtype(in0.dtype)).set_data_from_numpy(in0),\n",
    "]\n",
    "output_tensors = [\n",
    "    grpcclient.InferRequestedOutput(\"output\"),\n",
    "]\n",
    "model_name = \"kefth-fashion-mnist\"\n",
    "infer_rsp = triton_client.infer(model_name, inputs=input_tensors, outputs=output_tensors)"
   ]
  },
  {
   "cell_type": "code",
   "execution_count": 27,
   "metadata": {},
   "outputs": [
    {
     "name": "stdout",
     "output_type": "stream",
     "text": [
      "[[-6.09344   -2.4736507 -4.753368   5.8362384 -5.3823166 -3.6607287\n",
      "  -8.433782  -4.2557     0.6277533 -7.025732 ]]\n"
     ]
    }
   ],
   "source": [
    "output0 = infer_rsp.as_numpy(\"output\")\n",
    "print(output0)"
   ]
  }
 ],
 "metadata": {
  "kernelspec": {
   "display_name": "Python 3",
   "language": "python",
   "name": "python3"
  },
  "language_info": {
   "codemirror_mode": {
    "name": "ipython",
    "version": 3
   },
   "file_extension": ".py",
   "mimetype": "text/x-python",
   "name": "python",
   "nbconvert_exporter": "python",
   "pygments_lexer": "ipython3",
   "version": "3.10.12"
  }
 },
 "nbformat": 4,
 "nbformat_minor": 2
}
