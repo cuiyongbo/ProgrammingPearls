{
 "cells": [
  {
   "cell_type": "code",
   "execution_count": null,
   "metadata": {},
   "outputs": [],
   "source": [
    "import pandas as pd\n",
    "import matplotlib.pyplot as plt"
   ]
  },
  {
   "cell_type": "code",
   "execution_count": null,
   "metadata": {},
   "outputs": [],
   "source": [
    "benchmark_file = \"./profile_server.csv\""
   ]
  },
  {
   "cell_type": "code",
   "execution_count": null,
   "metadata": {},
   "outputs": [],
   "source": [
    "# Load the CSV file into a DataFrame\n",
    "df = pd.read_csv(benchmark_file)\n",
    "num_rows, num_cols = df.shape\n",
    "print(f\"Number of rows: {num_rows}\")\n",
    "print(f\"Number of columns: {num_cols}\")\n",
    "print(\"Header:\", df.columns)\n",
    "\n",
    "qps = \"QPS\"\n",
    "throughput = \"throughput(token/s)\""
   ]
  },
  {
   "cell_type": "code",
   "execution_count": null,
   "metadata": {},
   "outputs": [],
   "source": [
    "# the 32th row\n",
    "df.iloc[31]\n",
    "\n",
    "# the rows from the 11th to the 20th\n",
    "df.iloc[10:20]\n",
    "\n",
    "# display the first 10 rows\n",
    "df.head(n=10)\n"
   ]
  },
  {
   "cell_type": "code",
   "execution_count": null,
   "metadata": {},
   "outputs": [],
   "source": [
    "# Get unique values\n",
    "unique_text_length = df['text_length'].unique()\n",
    "print(\"Unique values using unique():\", unique_text_length)\n",
    "\n",
    "# Get the number of unique values\n",
    "unique_count = df['text_length'].nunique()\n",
    "print(\"Number of unique values using nunique():\", unique_count)"
   ]
  },
  {
   "cell_type": "code",
   "execution_count": null,
   "metadata": {},
   "outputs": [],
   "source": [
    "#df[\"text_length\"]\n",
    "#df[\"QPS\"].max()\n",
    "# Find the row with the maximum QPS\n",
    "max_qps_row = df.loc[df[qps].idxmax()]\n",
    "# Print the row with the maximum QPS\n",
    "print(\"Max QPS:\")\n",
    "print(max_qps_row)\n",
    "\n",
    "max_throughtpus_row = df.loc[df[throughput].idxmax()]\n",
    "print(\"Max throughput:\")\n",
    "print(max_throughtpus_row)\n"
   ]
  },
  {
   "cell_type": "code",
   "execution_count": null,
   "metadata": {},
   "outputs": [],
   "source": [
    "# Sort the DataFrame by the 'QPS' column in ascending order\n",
    "df_by_qps = df.sort_values(by=qps, ascending=False)\n",
    "df_by_qps.head(n=50)"
   ]
  },
  {
   "cell_type": "code",
   "execution_count": null,
   "metadata": {},
   "outputs": [],
   "source": [
    "# Sort the DataFrame by the throughput column in ascending order\n",
    "df_by_throughput = df.sort_values(by=throughput, ascending=False)\n",
    "df_by_throughput.head(n=50)\n"
   ]
  },
  {
   "cell_type": "code",
   "execution_count": null,
   "metadata": {},
   "outputs": [],
   "source": [
    "# Filter the DataFrame using multiple conditions\n",
    "filtered_df = df[(df[qps] >= 800) & (df[throughput] >= 500000)]\n",
    "print(filtered_df.shape)\n",
    "# Print the filtered DataFrame\n",
    "filtered_df"
   ]
  },
  {
   "cell_type": "code",
   "execution_count": null,
   "metadata": {},
   "outputs": [],
   "source": [
    "# Create a figure and axis\n",
    "plt.figure(figsize=(10, 6))\n",
    "\n",
    "# (batch_size, worker_num)\n",
    "for t, w in [(128, 31), (256, 31), (512, 31), (1024, 31)]:\n",
    "    filtered_df = df[(df[\"text_length\"] == t) & (df[\"worker_num\"] == w)]\n",
    "    plt.plot(filtered_df['batch_size'], filtered_df[qps], marker='o', linestyle='-', label=f'text_length={t},worker_num={w}')\n",
    "\n",
    "plt.title(\"Batch Size vs QPS\")\n",
    "plt.xlabel('Batch Size')\n",
    "plt.ylabel(qps)\n",
    "# Show the legend\n",
    "plt.legend()\n",
    "# Show the plot\n",
    "plt.show()"
   ]
  },
  {
   "cell_type": "code",
   "execution_count": null,
   "metadata": {},
   "outputs": [],
   "source": [
    "# Create a figure and axis\n",
    "plt.figure(figsize=(10, 6))\n",
    "\n",
    "# (batch_size, worker_num)\n",
    "for t, w in [(1, 31), (4, 31), (8, 31), (12, 31), (16, 31)]:\n",
    "    filtered_df = df[(df[\"batch_size\"] == t) & (df[\"worker_num\"] == w)]\n",
    "    plt.plot(filtered_df['text_length'], filtered_df[qps], marker='o', linestyle='-', label=f'batch_size={t},worker_num={w}')\n",
    "\n",
    "plt.title(\"Text Length vs QPS\")\n",
    "plt.xlabel('Text Length')\n",
    "plt.ylabel(qps)\n",
    "# Show the legend\n",
    "plt.legend()\n",
    "# Show the plot\n",
    "plt.show()"
   ]
  },
  {
   "cell_type": "code",
   "execution_count": null,
   "metadata": {},
   "outputs": [],
   "source": [
    "# Create a figure and axis\n",
    "plt.figure(figsize=(10, 6))\n",
    "\n",
    "# (batch_size, worker_num)\n",
    "for t, w in [(128, 31), (256, 31), (512, 31), (1024, 31)]:\n",
    "    filtered_df = df[(df[\"text_length\"] == t) & (df[\"worker_num\"] == w)]\n",
    "    plt.plot(filtered_df['batch_size'], filtered_df[throughput], marker='o', linestyle='-', label=f'text_length={t},worker_num={w}')\n",
    "\n",
    "plt.title(\"Batch Size vs Throughput\")\n",
    "plt.xlabel('Batch Size')\n",
    "plt.ylabel(throughput)\n",
    "# Show the legend\n",
    "plt.legend()\n",
    "# Show the plot\n",
    "plt.show()"
   ]
  },
  {
   "cell_type": "code",
   "execution_count": null,
   "metadata": {},
   "outputs": [],
   "source": [
    "# Create a figure and axis\n",
    "plt.figure(figsize=(10, 6))\n",
    "\n",
    "# (batch_size, worker_num)\n",
    "for t, w in [(1, 31), (4, 31), (8, 31), (12, 31), (16, 31)]:\n",
    "    filtered_df = df[(df[\"batch_size\"] == t) & (df[\"worker_num\"] == w)]\n",
    "    plt.plot(filtered_df['text_length'], filtered_df[throughput], marker='o', linestyle='-', label=f'batch_size={t},worker_num={w}')\n",
    "\n",
    "plt.title(\"Text Length vs Throughput\")\n",
    "plt.xlabel('Text Length')\n",
    "plt.ylabel(throughput)\n",
    "# Show the legend\n",
    "plt.legend()\n",
    "# Show the plot\n",
    "plt.show()\n"
   ]
  }
 ],
 "metadata": {
  "kernelspec": {
   "display_name": "Python 3",
   "language": "python",
   "name": "python3"
  },
  "language_info": {
   "codemirror_mode": {
    "name": "ipython",
    "version": 3
   },
   "file_extension": ".py",
   "mimetype": "text/x-python",
   "name": "python",
   "nbconvert_exporter": "python",
   "pygments_lexer": "ipython3",
   "version": "3.9.6"
  }
 },
 "nbformat": 4,
 "nbformat_minor": 2
}
